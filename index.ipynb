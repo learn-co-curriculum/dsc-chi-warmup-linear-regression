{
 "cells": [
  {
   "cell_type": "markdown",
   "metadata": {},
   "source": [
    "# Linear Regression"
   ]
  },
  {
   "cell_type": "markdown",
   "metadata": {},
   "source": [
    "This morning's warmup will more of a codealong.\n",
    "\n",
    "Since we're nearing the end of mod project, let's make sure we have the code down for fitting a linear regression model!\n",
    "\n",
    "Below we import life expectancy data for 193 countries from 2000-2015."
   ]
  },
  {
   "cell_type": "code",
   "execution_count": 62,
   "metadata": {
    "ExecuteTime": {
     "end_time": "2020-06-11T06:08:25.507277Z",
     "start_time": "2020-06-11T06:08:24.319692Z"
    }
   },
   "outputs": [],
   "source": [
    "import pandas as pd\n",
    "\n",
    "df = pd.read_csv('https://gist.githubusercontent.com/joelsewhere/a61e90c0d88cddb052975d65835bc339/raw/20743a0ea41fae58dbee2f166e5d0af56a5f4242/life_expectancy.csv')"
   ]
  },
  {
   "cell_type": "markdown",
   "metadata": {},
   "source": [
    "For this warmup, let's:\n",
    "- Limit the dataset to the year 2015\n",
    "- Remove all columns containing strings\n",
    "- Lower the column names and replace spaces with underscores"
   ]
  },
  {
   "cell_type": "code",
   "execution_count": 63,
   "metadata": {
    "ExecuteTime": {
     "end_time": "2020-06-11T06:08:27.095536Z",
     "start_time": "2020-06-11T06:08:27.083627Z"
    }
   },
   "outputs": [],
   "source": [
    "df = df[df.Year == 2015]\n",
    "df = df.select_dtypes(exclude=['object'])\n",
    "df.columns = [x.lower().strip().replace(' ', '_') for x in df.columns]"
   ]
  },
  {
   "cell_type": "markdown",
   "metadata": {},
   "source": [
    "Great, let's make sure we don't have any null values!"
   ]
  },
  {
   "cell_type": "code",
   "execution_count": 64,
   "metadata": {
    "ExecuteTime": {
     "end_time": "2020-06-11T06:08:28.722872Z",
     "start_time": "2020-06-11T06:08:28.713298Z"
    }
   },
   "outputs": [
    {
     "name": "stdout",
     "output_type": "stream",
     "text": [
      "<class 'pandas.core.frame.DataFrame'>\n",
      "Int64Index: 183 entries, 0 to 2922\n",
      "Data columns (total 20 columns):\n",
      "year                               183 non-null int64\n",
      "life_expectancy                    183 non-null float64\n",
      "adult_mortality                    183 non-null float64\n",
      "infant_deaths                      183 non-null int64\n",
      "alcohol                            6 non-null float64\n",
      "percentage_expenditure             183 non-null float64\n",
      "hepatitis_b                        174 non-null float64\n",
      "measles                            183 non-null int64\n",
      "bmi                                181 non-null float64\n",
      "under-five_deaths                  183 non-null int64\n",
      "polio                              183 non-null float64\n",
      "total_expenditure                  2 non-null float64\n",
      "diphtheria                         183 non-null float64\n",
      "hiv/aids                           183 non-null float64\n",
      "gdp                                154 non-null float64\n",
      "population                         142 non-null float64\n",
      "thinness__1-19_years               181 non-null float64\n",
      "thinness_5-9_years                 181 non-null float64\n",
      "income_composition_of_resources    173 non-null float64\n",
      "schooling                          173 non-null float64\n",
      "dtypes: float64(16), int64(4)\n",
      "memory usage: 30.0 KB\n"
     ]
    }
   ],
   "source": [
    "df.info()"
   ]
  },
  {
   "cell_type": "markdown",
   "metadata": {},
   "source": [
    "# $Yikes$\n",
    "\n",
    "Ok, let's first drop the ```alcohol``` and ```total_expenditure``` columns.\n",
    "\n",
    "Once we've done that we can drop any other rows that have null values. \n",
    "\n",
    "We will also drop the ```year``` column for now."
   ]
  },
  {
   "cell_type": "code",
   "execution_count": 65,
   "metadata": {
    "ExecuteTime": {
     "end_time": "2020-06-11T06:08:30.571781Z",
     "start_time": "2020-06-11T06:08:30.457307Z"
    }
   },
   "outputs": [],
   "source": [
    "df.drop(['alcohol', 'total_expenditure', 'year'], axis = 1, inplace = True)\n",
    "df.dropna(inplace=True)"
   ]
  },
  {
   "cell_type": "markdown",
   "metadata": {},
   "source": [
    "Next we need to isolate the X and y data.\n",
    "\n",
    "For this dataset, the column ```life_expectancy``` is the target column *(y column)*"
   ]
  },
  {
   "cell_type": "code",
   "execution_count": 66,
   "metadata": {
    "ExecuteTime": {
     "end_time": "2020-06-11T06:08:32.465796Z",
     "start_time": "2020-06-11T06:08:32.462152Z"
    }
   },
   "outputs": [],
   "source": [
    "X = df.drop('life_expectancy', axis=1)\n",
    "y = df['life_expectancy']"
   ]
  },
  {
   "cell_type": "markdown",
   "metadata": {},
   "source": [
    "Ok, now in the cell below import ```statsmodels.api as sm```."
   ]
  },
  {
   "cell_type": "code",
   "execution_count": 67,
   "metadata": {
    "ExecuteTime": {
     "end_time": "2020-06-11T06:08:33.744630Z",
     "start_time": "2020-06-11T06:08:33.741541Z"
    }
   },
   "outputs": [],
   "source": [
    "import statsmodels.api as sm"
   ]
  },
  {
   "cell_type": "markdown",
   "metadata": {},
   "source": [
    "And then we fit our model!"
   ]
  },
  {
   "cell_type": "code",
   "execution_count": 100,
   "metadata": {
    "ExecuteTime": {
     "end_time": "2020-06-11T06:21:40.522155Z",
     "start_time": "2020-06-11T06:21:40.469447Z"
    }
   },
   "outputs": [
    {
     "data": {
      "text/html": [
       "<table class=\"simpletable\">\n",
       "<caption>OLS Regression Results</caption>\n",
       "<tr>\n",
       "  <th>Dep. Variable:</th>     <td>life_expectancy</td> <th>  R-squared (uncentered):</th>      <td>   0.993</td> \n",
       "</tr>\n",
       "<tr>\n",
       "  <th>Model:</th>                   <td>OLS</td>       <th>  Adj. R-squared (uncentered):</th> <td>   0.992</td> \n",
       "</tr>\n",
       "<tr>\n",
       "  <th>Method:</th>             <td>Least Squares</td>  <th>  F-statistic:       </th>          <td>   999.2</td> \n",
       "</tr>\n",
       "<tr>\n",
       "  <th>Date:</th>             <td>Thu, 11 Jun 2020</td> <th>  Prob (F-statistic):</th>          <td>1.68e-114</td>\n",
       "</tr>\n",
       "<tr>\n",
       "  <th>Time:</th>                 <td>01:21:40</td>     <th>  Log-Likelihood:    </th>          <td> -417.18</td> \n",
       "</tr>\n",
       "<tr>\n",
       "  <th>No. Observations:</th>      <td>   130</td>      <th>  AIC:               </th>          <td>   866.4</td> \n",
       "</tr>\n",
       "<tr>\n",
       "  <th>Df Residuals:</th>          <td>   114</td>      <th>  BIC:               </th>          <td>   912.2</td> \n",
       "</tr>\n",
       "<tr>\n",
       "  <th>Df Model:</th>              <td>    16</td>      <th>                     </th>              <td> </td>    \n",
       "</tr>\n",
       "<tr>\n",
       "  <th>Covariance Type:</th>      <td>nonrobust</td>    <th>                     </th>              <td> </td>    \n",
       "</tr>\n",
       "</table>\n",
       "<table class=\"simpletable\">\n",
       "<tr>\n",
       "                 <td></td>                    <th>coef</th>     <th>std err</th>      <th>t</th>      <th>P>|t|</th>  <th>[0.025</th>    <th>0.975]</th>  \n",
       "</tr>\n",
       "<tr>\n",
       "  <th>adult_mortality</th>                 <td>    0.0128</td> <td>    0.008</td> <td>    1.643</td> <td> 0.103</td> <td>   -0.003</td> <td>    0.028</td>\n",
       "</tr>\n",
       "<tr>\n",
       "  <th>infant_deaths</th>                   <td>   -0.0887</td> <td>    0.076</td> <td>   -1.162</td> <td> 0.248</td> <td>   -0.240</td> <td>    0.062</td>\n",
       "</tr>\n",
       "<tr>\n",
       "  <th>percentage_expenditure</th>          <td>    0.0069</td> <td>    0.017</td> <td>    0.394</td> <td> 0.694</td> <td>   -0.028</td> <td>    0.041</td>\n",
       "</tr>\n",
       "<tr>\n",
       "  <th>hepatitis_b</th>                     <td>    0.0489</td> <td>    0.054</td> <td>    0.912</td> <td> 0.363</td> <td>   -0.057</td> <td>    0.155</td>\n",
       "</tr>\n",
       "<tr>\n",
       "  <th>measles</th>                         <td>  4.99e-05</td> <td>    0.000</td> <td>    0.369</td> <td> 0.713</td> <td>   -0.000</td> <td>    0.000</td>\n",
       "</tr>\n",
       "<tr>\n",
       "  <th>bmi</th>                             <td>    0.0029</td> <td>    0.037</td> <td>    0.080</td> <td> 0.936</td> <td>   -0.070</td> <td>    0.076</td>\n",
       "</tr>\n",
       "<tr>\n",
       "  <th>under-five_deaths</th>               <td>    0.0568</td> <td>    0.055</td> <td>    1.036</td> <td> 0.302</td> <td>   -0.052</td> <td>    0.165</td>\n",
       "</tr>\n",
       "<tr>\n",
       "  <th>polio</th>                           <td>    0.0411</td> <td>    0.030</td> <td>    1.371</td> <td> 0.173</td> <td>   -0.018</td> <td>    0.100</td>\n",
       "</tr>\n",
       "<tr>\n",
       "  <th>diphtheria</th>                      <td>    0.0151</td> <td>    0.062</td> <td>    0.243</td> <td> 0.808</td> <td>   -0.108</td> <td>    0.138</td>\n",
       "</tr>\n",
       "<tr>\n",
       "  <th>hiv/aids</th>                        <td>    0.3207</td> <td>    0.524</td> <td>    0.612</td> <td> 0.541</td> <td>   -0.717</td> <td>    1.358</td>\n",
       "</tr>\n",
       "<tr>\n",
       "  <th>gdp</th>                             <td>   -0.0002</td> <td>  6.7e-05</td> <td>   -2.871</td> <td> 0.005</td> <td>   -0.000</td> <td>-5.97e-05</td>\n",
       "</tr>\n",
       "<tr>\n",
       "  <th>population</th>                      <td> 4.223e-09</td> <td> 2.27e-08</td> <td>    0.186</td> <td> 0.853</td> <td>-4.07e-08</td> <td> 4.92e-08</td>\n",
       "</tr>\n",
       "<tr>\n",
       "  <th>thinness__1-19_years</th>            <td>    0.3341</td> <td>    0.553</td> <td>    0.604</td> <td> 0.547</td> <td>   -0.762</td> <td>    1.430</td>\n",
       "</tr>\n",
       "<tr>\n",
       "  <th>thinness_5-9_years</th>              <td>    0.4688</td> <td>    0.540</td> <td>    0.868</td> <td> 0.387</td> <td>   -0.601</td> <td>    1.539</td>\n",
       "</tr>\n",
       "<tr>\n",
       "  <th>income_composition_of_resources</th> <td>   78.5533</td> <td>   10.841</td> <td>    7.246</td> <td> 0.000</td> <td>   57.076</td> <td>  100.030</td>\n",
       "</tr>\n",
       "<tr>\n",
       "  <th>schooling</th>                       <td>    0.2954</td> <td>    0.566</td> <td>    0.522</td> <td> 0.602</td> <td>   -0.825</td> <td>    1.416</td>\n",
       "</tr>\n",
       "</table>\n",
       "<table class=\"simpletable\">\n",
       "<tr>\n",
       "  <th>Omnibus:</th>       <td> 2.667</td> <th>  Durbin-Watson:     </th> <td>   2.107</td>\n",
       "</tr>\n",
       "<tr>\n",
       "  <th>Prob(Omnibus):</th> <td> 0.264</td> <th>  Jarque-Bera (JB):  </th> <td>   2.468</td>\n",
       "</tr>\n",
       "<tr>\n",
       "  <th>Skew:</th>          <td> 0.337</td> <th>  Prob(JB):          </th> <td>   0.291</td>\n",
       "</tr>\n",
       "<tr>\n",
       "  <th>Kurtosis:</th>      <td> 2.985</td> <th>  Cond. No.          </th> <td>6.24e+08</td>\n",
       "</tr>\n",
       "</table><br/><br/>Warnings:<br/>[1] Standard Errors assume that the covariance matrix of the errors is correctly specified.<br/>[2] The condition number is large, 6.24e+08. This might indicate that there are<br/>strong multicollinearity or other numerical problems."
      ],
      "text/plain": [
       "<class 'statsmodels.iolib.summary.Summary'>\n",
       "\"\"\"\n",
       "                                 OLS Regression Results                                \n",
       "=======================================================================================\n",
       "Dep. Variable:        life_expectancy   R-squared (uncentered):                   0.993\n",
       "Model:                            OLS   Adj. R-squared (uncentered):              0.992\n",
       "Method:                 Least Squares   F-statistic:                              999.2\n",
       "Date:                Thu, 11 Jun 2020   Prob (F-statistic):                   1.68e-114\n",
       "Time:                        01:21:40   Log-Likelihood:                         -417.18\n",
       "No. Observations:                 130   AIC:                                      866.4\n",
       "Df Residuals:                     114   BIC:                                      912.2\n",
       "Df Model:                          16                                                  \n",
       "Covariance Type:            nonrobust                                                  \n",
       "===================================================================================================\n",
       "                                      coef    std err          t      P>|t|      [0.025      0.975]\n",
       "---------------------------------------------------------------------------------------------------\n",
       "adult_mortality                     0.0128      0.008      1.643      0.103      -0.003       0.028\n",
       "infant_deaths                      -0.0887      0.076     -1.162      0.248      -0.240       0.062\n",
       "percentage_expenditure              0.0069      0.017      0.394      0.694      -0.028       0.041\n",
       "hepatitis_b                         0.0489      0.054      0.912      0.363      -0.057       0.155\n",
       "measles                           4.99e-05      0.000      0.369      0.713      -0.000       0.000\n",
       "bmi                                 0.0029      0.037      0.080      0.936      -0.070       0.076\n",
       "under-five_deaths                   0.0568      0.055      1.036      0.302      -0.052       0.165\n",
       "polio                               0.0411      0.030      1.371      0.173      -0.018       0.100\n",
       "diphtheria                          0.0151      0.062      0.243      0.808      -0.108       0.138\n",
       "hiv/aids                            0.3207      0.524      0.612      0.541      -0.717       1.358\n",
       "gdp                                -0.0002    6.7e-05     -2.871      0.005      -0.000   -5.97e-05\n",
       "population                       4.223e-09   2.27e-08      0.186      0.853   -4.07e-08    4.92e-08\n",
       "thinness__1-19_years                0.3341      0.553      0.604      0.547      -0.762       1.430\n",
       "thinness_5-9_years                  0.4688      0.540      0.868      0.387      -0.601       1.539\n",
       "income_composition_of_resources    78.5533     10.841      7.246      0.000      57.076     100.030\n",
       "schooling                           0.2954      0.566      0.522      0.602      -0.825       1.416\n",
       "==============================================================================\n",
       "Omnibus:                        2.667   Durbin-Watson:                   2.107\n",
       "Prob(Omnibus):                  0.264   Jarque-Bera (JB):                2.468\n",
       "Skew:                           0.337   Prob(JB):                        0.291\n",
       "Kurtosis:                       2.985   Cond. No.                     6.24e+08\n",
       "==============================================================================\n",
       "\n",
       "Warnings:\n",
       "[1] Standard Errors assume that the covariance matrix of the errors is correctly specified.\n",
       "[2] The condition number is large, 6.24e+08. This might indicate that there are\n",
       "strong multicollinearity or other numerical problems.\n",
       "\"\"\""
      ]
     },
     "execution_count": 100,
     "metadata": {},
     "output_type": "execute_result"
    }
   ],
   "source": [
    "model = sm.OLS(y, X).fit()\n",
    "model.summary()"
   ]
  },
  {
   "cell_type": "markdown",
   "metadata": {},
   "source": [
    "**How well is our model explaining the variance of our data?**"
   ]
  },
  {
   "cell_type": "markdown",
   "metadata": {},
   "source": [
    "99% of the variation for the life expectancy column is explained by this model, however this current model produces p-values > 0.05 for several independent variables which inidicates that there is insufficient evidence to conclude these variables have a non zero correlation with the dependent variable."
   ]
  },
  {
   "cell_type": "markdown",
   "metadata": {},
   "source": [
    "**Before we go, let's fit an sklearn model as well.**"
   ]
  },
  {
   "cell_type": "code",
   "execution_count": 75,
   "metadata": {
    "ExecuteTime": {
     "end_time": "2020-06-11T06:11:55.708106Z",
     "start_time": "2020-06-11T06:11:55.704672Z"
    }
   },
   "outputs": [],
   "source": [
    "from sklearn.linear_model import LinearRegression\n",
    "import sklearn.metrics as metrics"
   ]
  },
  {
   "cell_type": "markdown",
   "metadata": {},
   "source": [
    "First we create a model object."
   ]
  },
  {
   "cell_type": "code",
   "execution_count": 74,
   "metadata": {
    "ExecuteTime": {
     "end_time": "2020-06-11T06:11:30.082515Z",
     "start_time": "2020-06-11T06:11:30.055450Z"
    }
   },
   "outputs": [
    {
     "data": {
      "text/plain": [
       "LinearRegression(copy_X=True, fit_intercept=True, n_jobs=None, normalize=False)"
      ]
     },
     "execution_count": 74,
     "metadata": {},
     "output_type": "execute_result"
    }
   ],
   "source": [
    "lr = LinearRegression()"
   ]
  },
  {
   "cell_type": "markdown",
   "metadata": {},
   "source": [
    "Then we fit the model object on our X, and y data."
   ]
  },
  {
   "cell_type": "code",
   "execution_count": null,
   "metadata": {},
   "outputs": [],
   "source": [
    "lr.fit(X, y)"
   ]
  },
  {
   "cell_type": "markdown",
   "metadata": {},
   "source": [
    "Next we use the model to predict values for our X data."
   ]
  },
  {
   "cell_type": "code",
   "execution_count": 101,
   "metadata": {
    "ExecuteTime": {
     "end_time": "2020-06-11T06:23:05.181746Z",
     "start_time": "2020-06-11T06:23:05.170008Z"
    }
   },
   "outputs": [],
   "source": [
    "y_hat = lr.predict(X)"
   ]
  },
  {
   "cell_type": "markdown",
   "metadata": {
    "ExecuteTime": {
     "end_time": "2020-06-11T06:23:19.603023Z",
     "start_time": "2020-06-11T06:23:19.593033Z"
    }
   },
   "source": [
    "Then we compare our predictions to the actual y values"
   ]
  },
  {
   "cell_type": "code",
   "execution_count": 103,
   "metadata": {
    "ExecuteTime": {
     "end_time": "2020-06-11T06:23:29.589853Z",
     "start_time": "2020-06-11T06:23:29.581818Z"
    }
   },
   "outputs": [
    {
     "data": {
      "text/plain": [
       "0.9008630576092219"
      ]
     },
     "execution_count": 103,
     "metadata": {},
     "output_type": "execute_result"
    }
   ],
   "source": [
    "metrics.r2_score(y, y_hat)"
   ]
  },
  {
   "cell_type": "markdown",
   "metadata": {},
   "source": [
    "Now let's plot our coefficients!"
   ]
  },
  {
   "cell_type": "code",
   "execution_count": 110,
   "metadata": {
    "ExecuteTime": {
     "end_time": "2020-06-11T06:25:39.505038Z",
     "start_time": "2020-06-11T06:25:39.496369Z"
    }
   },
   "outputs": [],
   "source": [
    "def plot_coefficients(column_names, coefficients):\n",
    "    plt.figure(figsize=(15,8))\n",
    "    zipped = list(zip(column_names,coefficients))\n",
    "    zipped = sorted(zipped, key= lambda x: x[1])\n",
    "    \n",
    "    xaxis = [x[0] for x in zipped]\n",
    "    yaxis = [x[1] for x in zipped]\n",
    "    \n",
    "    plt.bar(xaxis, yaxis)\n",
    "    plt.xticks(rotation=60)\n",
    "    plt.title('Coefficients')"
   ]
  },
  {
   "cell_type": "code",
   "execution_count": 111,
   "metadata": {
    "ExecuteTime": {
     "end_time": "2020-06-11T06:25:40.829323Z",
     "start_time": "2020-06-11T06:25:40.541262Z"
    }
   },
   "outputs": [
    {
     "data": {
      "image/png": "[encoded data removed]",
      "text/plain": [
       "<Figure size 1080x576 with 1 Axes>"
      ]
     },
     "metadata": {
      "needs_background": "light"
     },
     "output_type": "display_data"
    }
   ],
   "source": [
    "plot_coefficients(X.columns, lr.coef_)"
   ]
  },
  {
   "cell_type": "markdown",
   "metadata": {
    "ExecuteTime": {
     "end_time": "2020-06-11T06:26:58.525827Z",
     "start_time": "2020-06-11T06:26:58.516658Z"
    }
   },
   "source": [
    "This sklearn model explains 90% of the variance for the dependant variable. There are some major differences between the coefficients. It might be beneficial to scale our data using Sklearn's Standard Scaler."
   ]
  },
  {
   "cell_type": "code",
   "execution_count": 142,
   "metadata": {
    "ExecuteTime": {
     "end_time": "2020-06-11T13:35:50.245415Z",
     "start_time": "2020-06-11T13:35:50.169384Z"
    }
   },
   "outputs": [],
   "source": [
    "from sklearn import preprocessing"
   ]
  },
  {
   "cell_type": "code",
   "execution_count": 153,
   "metadata": {
    "ExecuteTime": {
     "end_time": "2020-06-11T13:37:34.429023Z",
     "start_time": "2020-06-11T13:37:34.420466Z"
    }
   },
   "outputs": [],
   "source": [
    "scaler = preprocessing.StandardScaler()\n",
    "X_scaled = scaler.fit_transform(X)\n",
    "X_scaled = pd.DataFrame(X_scaled, columns = X.columns)\n",
    "y.reset_index(drop=True, inplace=True)"
   ]
  },
  {
   "cell_type": "markdown",
   "metadata": {},
   "source": [
    "To speed things up, let's compile out modeling code into functions"
   ]
  },
  {
   "cell_type": "code",
   "execution_count": 157,
   "metadata": {
    "ExecuteTime": {
     "end_time": "2020-06-11T13:39:44.229844Z",
     "start_time": "2020-06-11T13:39:44.218863Z"
    }
   },
   "outputs": [],
   "source": [
    "def OLS(X, y, constant=False):\n",
    "    if constant:\n",
    "        return sm.OLS(y, sm.add_constant(X)).fit()\n",
    "    # Flipping the order for X and y so they are consistent across models\n",
    "    return sm.OLS(y, X).fit()\n",
    "\n",
    "def linear_regression(X,y):\n",
    "    lr = LinearRegression()\n",
    "    lr.fit(X, y)\n",
    "    y_hat = lr.predict(X)\n",
    "    r_squared = metrics.r2_score(y, y_hat)\n",
    "    print(\"R^2:\", r_squared)\n",
    "    plot_coefficients(X.columns, lr.coef_)\n",
    "    return lr"
   ]
  },
  {
   "cell_type": "code",
   "execution_count": 158,
   "metadata": {
    "ExecuteTime": {
     "end_time": "2020-06-11T13:39:59.464606Z",
     "start_time": "2020-06-11T13:39:59.386794Z"
    }
   },
   "outputs": [
    {
     "name": "stderr",
     "output_type": "stream",
     "text": [
      "/Users/joel/anaconda3/lib/python3.7/site-packages/numpy/core/fromnumeric.py:2389: FutureWarning: Method .ptp is deprecated and will be removed in a future version. Use numpy.ptp instead.\n",
      "  return ptp(axis=axis, out=out, **kwargs)\n"
     ]
    },
    {
     "data": {
      "text/html": [
       "<table class=\"simpletable\">\n",
       "<caption>OLS Regression Results</caption>\n",
       "<tr>\n",
       "  <th>Dep. Variable:</th>     <td>life_expectancy</td> <th>  R-squared:         </th> <td>   0.901</td>\n",
       "</tr>\n",
       "<tr>\n",
       "  <th>Model:</th>                   <td>OLS</td>       <th>  Adj. R-squared:    </th> <td>   0.887</td>\n",
       "</tr>\n",
       "<tr>\n",
       "  <th>Method:</th>             <td>Least Squares</td>  <th>  F-statistic:       </th> <td>   64.18</td>\n",
       "</tr>\n",
       "<tr>\n",
       "  <th>Date:</th>             <td>Thu, 11 Jun 2020</td> <th>  Prob (F-statistic):</th> <td>5.55e-49</td>\n",
       "</tr>\n",
       "<tr>\n",
       "  <th>Time:</th>                 <td>08:39:59</td>     <th>  Log-Likelihood:    </th> <td> -304.01</td>\n",
       "</tr>\n",
       "<tr>\n",
       "  <th>No. Observations:</th>      <td>   130</td>      <th>  AIC:               </th> <td>   642.0</td>\n",
       "</tr>\n",
       "<tr>\n",
       "  <th>Df Residuals:</th>          <td>   113</td>      <th>  BIC:               </th> <td>   690.8</td>\n",
       "</tr>\n",
       "<tr>\n",
       "  <th>Df Model:</th>              <td>    16</td>      <th>                     </th>     <td> </td>   \n",
       "</tr>\n",
       "<tr>\n",
       "  <th>Covariance Type:</th>      <td>nonrobust</td>    <th>                     </th>     <td> </td>   \n",
       "</tr>\n",
       "</table>\n",
       "<table class=\"simpletable\">\n",
       "<tr>\n",
       "                 <td></td>                    <th>coef</th>     <th>std err</th>      <th>t</th>      <th>P>|t|</th>  <th>[0.025</th>    <th>0.975]</th>  \n",
       "</tr>\n",
       "<tr>\n",
       "  <th>const</th>                           <td>   70.7415</td> <td>    0.236</td> <td>  299.795</td> <td> 0.000</td> <td>   70.274</td> <td>   71.209</td>\n",
       "</tr>\n",
       "<tr>\n",
       "  <th>adult_mortality</th>                 <td>   -2.0701</td> <td>    0.356</td> <td>   -5.808</td> <td> 0.000</td> <td>   -2.776</td> <td>   -1.364</td>\n",
       "</tr>\n",
       "<tr>\n",
       "  <th>infant_deaths</th>                   <td>    6.3413</td> <td>    3.150</td> <td>    2.013</td> <td> 0.046</td> <td>    0.101</td> <td>   12.582</td>\n",
       "</tr>\n",
       "<tr>\n",
       "  <th>percentage_expenditure</th>          <td>    0.1739</td> <td>    0.238</td> <td>    0.732</td> <td> 0.466</td> <td>   -0.297</td> <td>    0.644</td>\n",
       "</tr>\n",
       "<tr>\n",
       "  <th>hepatitis_b</th>                     <td>    1.0605</td> <td>    0.561</td> <td>    1.890</td> <td> 0.061</td> <td>   -0.051</td> <td>    2.172</td>\n",
       "</tr>\n",
       "<tr>\n",
       "  <th>measles</th>                         <td>   -0.4720</td> <td>    0.519</td> <td>   -0.909</td> <td> 0.365</td> <td>   -1.501</td> <td>    0.557</td>\n",
       "</tr>\n",
       "<tr>\n",
       "  <th>bmi</th>                             <td>   -0.2005</td> <td>    0.326</td> <td>   -0.614</td> <td> 0.540</td> <td>   -0.847</td> <td>    0.446</td>\n",
       "</tr>\n",
       "<tr>\n",
       "  <th>under-five_deaths</th>               <td>   -5.8947</td> <td>    2.900</td> <td>   -2.032</td> <td> 0.044</td> <td>  -11.641</td> <td>   -0.148</td>\n",
       "</tr>\n",
       "<tr>\n",
       "  <th>polio</th>                           <td>    0.2964</td> <td>    0.321</td> <td>    0.924</td> <td> 0.357</td> <td>   -0.339</td> <td>    0.932</td>\n",
       "</tr>\n",
       "<tr>\n",
       "  <th>diphtheria</th>                      <td>   -0.2469</td> <td>    0.608</td> <td>   -0.406</td> <td> 0.685</td> <td>   -1.451</td> <td>    0.957</td>\n",
       "</tr>\n",
       "<tr>\n",
       "  <th>hiv/aids</th>                        <td>   -0.7245</td> <td>    0.338</td> <td>   -2.146</td> <td> 0.034</td> <td>   -1.393</td> <td>   -0.056</td>\n",
       "</tr>\n",
       "<tr>\n",
       "  <th>gdp</th>                             <td>    0.0852</td> <td>    0.297</td> <td>    0.287</td> <td> 0.775</td> <td>   -0.503</td> <td>    0.673</td>\n",
       "</tr>\n",
       "<tr>\n",
       "  <th>population</th>                      <td>   -0.0292</td> <td>    0.287</td> <td>   -0.102</td> <td> 0.919</td> <td>   -0.598</td> <td>    0.539</td>\n",
       "</tr>\n",
       "<tr>\n",
       "  <th>thinness__1-19_years</th>            <td>   -0.5200</td> <td>    1.019</td> <td>   -0.510</td> <td> 0.611</td> <td>   -2.539</td> <td>    1.499</td>\n",
       "</tr>\n",
       "<tr>\n",
       "  <th>thinness_5-9_years</th>              <td>   -0.1064</td> <td>    1.018</td> <td>   -0.105</td> <td> 0.917</td> <td>   -2.123</td> <td>    1.910</td>\n",
       "</tr>\n",
       "<tr>\n",
       "  <th>income_composition_of_resources</th> <td>    5.0418</td> <td>    0.747</td> <td>    6.746</td> <td> 0.000</td> <td>    3.561</td> <td>    6.522</td>\n",
       "</tr>\n",
       "<tr>\n",
       "  <th>schooling</th>                       <td>   -0.1094</td> <td>    0.655</td> <td>   -0.167</td> <td> 0.868</td> <td>   -1.408</td> <td>    1.189</td>\n",
       "</tr>\n",
       "</table>\n",
       "<table class=\"simpletable\">\n",
       "<tr>\n",
       "  <th>Omnibus:</th>       <td> 3.474</td> <th>  Durbin-Watson:     </th> <td>   2.110</td>\n",
       "</tr>\n",
       "<tr>\n",
       "  <th>Prob(Omnibus):</th> <td> 0.176</td> <th>  Jarque-Bera (JB):  </th> <td>   3.538</td>\n",
       "</tr>\n",
       "<tr>\n",
       "  <th>Skew:</th>          <td>-0.153</td> <th>  Prob(JB):          </th> <td>   0.171</td>\n",
       "</tr>\n",
       "<tr>\n",
       "  <th>Kurtosis:</th>      <td> 3.748</td> <th>  Cond. No.          </th> <td>    41.9</td>\n",
       "</tr>\n",
       "</table><br/><br/>Warnings:<br/>[1] Standard Errors assume that the covariance matrix of the errors is correctly specified."
      ],
      "text/plain": [
       "<class 'statsmodels.iolib.summary.Summary'>\n",
       "\"\"\"\n",
       "                            OLS Regression Results                            \n",
       "==============================================================================\n",
       "Dep. Variable:        life_expectancy   R-squared:                       0.901\n",
       "Model:                            OLS   Adj. R-squared:                  0.887\n",
       "Method:                 Least Squares   F-statistic:                     64.18\n",
       "Date:                Thu, 11 Jun 2020   Prob (F-statistic):           5.55e-49\n",
       "Time:                        08:39:59   Log-Likelihood:                -304.01\n",
       "No. Observations:                 130   AIC:                             642.0\n",
       "Df Residuals:                     113   BIC:                             690.8\n",
       "Df Model:                          16                                         \n",
       "Covariance Type:            nonrobust                                         \n",
       "===================================================================================================\n",
       "                                      coef    std err          t      P>|t|      [0.025      0.975]\n",
       "---------------------------------------------------------------------------------------------------\n",
       "const                              70.7415      0.236    299.795      0.000      70.274      71.209\n",
       "adult_mortality                    -2.0701      0.356     -5.808      0.000      -2.776      -1.364\n",
       "infant_deaths                       6.3413      3.150      2.013      0.046       0.101      12.582\n",
       "percentage_expenditure              0.1739      0.238      0.732      0.466      -0.297       0.644\n",
       "hepatitis_b                         1.0605      0.561      1.890      0.061      -0.051       2.172\n",
       "measles                            -0.4720      0.519     -0.909      0.365      -1.501       0.557\n",
       "bmi                                -0.2005      0.326     -0.614      0.540      -0.847       0.446\n",
       "under-five_deaths                  -5.8947      2.900     -2.032      0.044     -11.641      -0.148\n",
       "polio                               0.2964      0.321      0.924      0.357      -0.339       0.932\n",
       "diphtheria                         -0.2469      0.608     -0.406      0.685      -1.451       0.957\n",
       "hiv/aids                           -0.7245      0.338     -2.146      0.034      -1.393      -0.056\n",
       "gdp                                 0.0852      0.297      0.287      0.775      -0.503       0.673\n",
       "population                         -0.0292      0.287     -0.102      0.919      -0.598       0.539\n",
       "thinness__1-19_years               -0.5200      1.019     -0.510      0.611      -2.539       1.499\n",
       "thinness_5-9_years                 -0.1064      1.018     -0.105      0.917      -2.123       1.910\n",
       "income_composition_of_resources     5.0418      0.747      6.746      0.000       3.561       6.522\n",
       "schooling                          -0.1094      0.655     -0.167      0.868      -1.408       1.189\n",
       "==============================================================================\n",
       "Omnibus:                        3.474   Durbin-Watson:                   2.110\n",
       "Prob(Omnibus):                  0.176   Jarque-Bera (JB):                3.538\n",
       "Skew:                          -0.153   Prob(JB):                        0.171\n",
       "Kurtosis:                       3.748   Cond. No.                         41.9\n",
       "==============================================================================\n",
       "\n",
       "Warnings:\n",
       "[1] Standard Errors assume that the covariance matrix of the errors is correctly specified.\n",
       "\"\"\""
      ]
     },
     "execution_count": 158,
     "metadata": {},
     "output_type": "execute_result"
    }
   ],
   "source": [
    "OLS(X_scaled, y, constant=True).summary()"
   ]
  },
  {
   "cell_type": "code",
   "execution_count": 156,
   "metadata": {
    "ExecuteTime": {
     "end_time": "2020-06-11T13:38:15.499727Z",
     "start_time": "2020-06-11T13:38:15.041701Z"
    }
   },
   "outputs": [
    {
     "name": "stdout",
     "output_type": "stream",
     "text": [
      "R^2: 0.9008630576092219\n"
     ]
    },
    {
     "data": {
      "text/plain": [
       "LinearRegression(copy_X=True, fit_intercept=True, n_jobs=None, normalize=False)"
      ]
     },
     "execution_count": 156,
     "metadata": {},
     "output_type": "execute_result"
    },
    {
     "data": {
      "image/png": "[encoded data removed]",
      "text/plain": [
       "<Figure size 1080x576 with 1 Axes>"
      ]
     },
     "metadata": {
      "needs_background": "light"
     },
     "output_type": "display_data"
    }
   ],
   "source": [
    "linear_regression(X_scaled, y)"
   ]
  },
  {
   "cell_type": "markdown",
   "metadata": {},
   "source": [
    "Income composition of resources has a very strong relationship with out target variable. \n",
    "\n",
    "Let's plot the relationship between those two columns, and then run a model without the Income composition."
   ]
  },
  {
   "cell_type": "code",
   "execution_count": 159,
   "metadata": {
    "ExecuteTime": {
     "end_time": "2020-06-11T13:41:59.802345Z",
     "start_time": "2020-06-11T13:41:59.617759Z"
    }
   },
   "outputs": [
    {
     "data": {
      "image/png": "[encoded data removed]",
      "text/plain": [
       "<Figure size 432x288 with 1 Axes>"
      ]
     },
     "metadata": {
      "needs_background": "light"
     },
     "output_type": "display_data"
    }
   ],
   "source": [
    "plt.scatter(df.income_composition_of_resources, df.life_expectancy)\n",
    "plt.ylabel('Life Expectancy')\n",
    "plt.xlabel('Income Composition of Resources');"
   ]
  },
  {
   "cell_type": "markdown",
   "metadata": {},
   "source": [
    "That is as close to a linear relationship as you could hope for. Let's see how our model does without this variable."
   ]
  },
  {
   "cell_type": "code",
   "execution_count": 160,
   "metadata": {
    "ExecuteTime": {
     "end_time": "2020-06-11T13:43:22.169065Z",
     "start_time": "2020-06-11T13:43:22.153441Z"
    }
   },
   "outputs": [],
   "source": [
    "X_scaled.drop('income_composition_of_resources', axis = 1, inplace = True)"
   ]
  },
  {
   "cell_type": "code",
   "execution_count": 161,
   "metadata": {
    "ExecuteTime": {
     "end_time": "2020-06-11T13:43:24.060425Z",
     "start_time": "2020-06-11T13:43:23.800674Z"
    }
   },
   "outputs": [
    {
     "name": "stdout",
     "output_type": "stream",
     "text": [
      "R^2: 0.8609382489399316\n"
     ]
    },
    {
     "data": {
      "image/png": "[encoded data removed]",
      "text/plain": [
       "<Figure size 1080x576 with 1 Axes>"
      ]
     },
     "metadata": {
      "needs_background": "light"
     },
     "output_type": "display_data"
    }
   ],
   "source": [
    "linear_regression(X_scaled, y);"
   ]
  },
  {
   "cell_type": "code",
   "execution_count": 163,
   "metadata": {
    "ExecuteTime": {
     "end_time": "2020-06-11T13:43:35.310315Z",
     "start_time": "2020-06-11T13:43:35.281332Z"
    }
   },
   "outputs": [
    {
     "name": "stderr",
     "output_type": "stream",
     "text": [
      "/Users/joel/anaconda3/lib/python3.7/site-packages/numpy/core/fromnumeric.py:2389: FutureWarning: Method .ptp is deprecated and will be removed in a future version. Use numpy.ptp instead.\n",
      "  return ptp(axis=axis, out=out, **kwargs)\n"
     ]
    },
    {
     "data": {
      "text/html": [
       "<table class=\"simpletable\">\n",
       "<caption>OLS Regression Results</caption>\n",
       "<tr>\n",
       "  <th>Dep. Variable:</th>     <td>life_expectancy</td> <th>  R-squared:         </th> <td>   0.861</td>\n",
       "</tr>\n",
       "<tr>\n",
       "  <th>Model:</th>                   <td>OLS</td>       <th>  Adj. R-squared:    </th> <td>   0.843</td>\n",
       "</tr>\n",
       "<tr>\n",
       "  <th>Method:</th>             <td>Least Squares</td>  <th>  F-statistic:       </th> <td>   47.05</td>\n",
       "</tr>\n",
       "<tr>\n",
       "  <th>Date:</th>             <td>Thu, 11 Jun 2020</td> <th>  Prob (F-statistic):</th> <td>1.17e-41</td>\n",
       "</tr>\n",
       "<tr>\n",
       "  <th>Time:</th>                 <td>08:43:35</td>     <th>  Log-Likelihood:    </th> <td> -326.01</td>\n",
       "</tr>\n",
       "<tr>\n",
       "  <th>No. Observations:</th>      <td>   130</td>      <th>  AIC:               </th> <td>   684.0</td>\n",
       "</tr>\n",
       "<tr>\n",
       "  <th>Df Residuals:</th>          <td>   114</td>      <th>  BIC:               </th> <td>   729.9</td>\n",
       "</tr>\n",
       "<tr>\n",
       "  <th>Df Model:</th>              <td>    15</td>      <th>                     </th>     <td> </td>   \n",
       "</tr>\n",
       "<tr>\n",
       "  <th>Covariance Type:</th>      <td>nonrobust</td>    <th>                     </th>     <td> </td>   \n",
       "</tr>\n",
       "</table>\n",
       "<table class=\"simpletable\">\n",
       "<tr>\n",
       "             <td></td>               <th>coef</th>     <th>std err</th>      <th>t</th>      <th>P>|t|</th>  <th>[0.025</th>    <th>0.975]</th>  \n",
       "</tr>\n",
       "<tr>\n",
       "  <th>const</th>                  <td>   70.7415</td> <td>    0.278</td> <td>  254.245</td> <td> 0.000</td> <td>   70.190</td> <td>   71.293</td>\n",
       "</tr>\n",
       "<tr>\n",
       "  <th>adult_mortality</th>        <td>   -2.8890</td> <td>    0.395</td> <td>   -7.311</td> <td> 0.000</td> <td>   -3.672</td> <td>   -2.106</td>\n",
       "</tr>\n",
       "<tr>\n",
       "  <th>infant_deaths</th>          <td>    9.6596</td> <td>    3.668</td> <td>    2.633</td> <td> 0.010</td> <td>    2.392</td> <td>   16.927</td>\n",
       "</tr>\n",
       "<tr>\n",
       "  <th>percentage_expenditure</th> <td>    0.1418</td> <td>    0.280</td> <td>    0.506</td> <td> 0.614</td> <td>   -0.413</td> <td>    0.697</td>\n",
       "</tr>\n",
       "<tr>\n",
       "  <th>hepatitis_b</th>            <td>    0.3510</td> <td>    0.650</td> <td>    0.540</td> <td> 0.590</td> <td>   -0.936</td> <td>    1.638</td>\n",
       "</tr>\n",
       "<tr>\n",
       "  <th>measles</th>                <td>   -0.9300</td> <td>    0.607</td> <td>   -1.532</td> <td> 0.128</td> <td>   -2.133</td> <td>    0.273</td>\n",
       "</tr>\n",
       "<tr>\n",
       "  <th>bmi</th>                    <td>    0.1295</td> <td>    0.381</td> <td>    0.340</td> <td> 0.734</td> <td>   -0.624</td> <td>    0.883</td>\n",
       "</tr>\n",
       "<tr>\n",
       "  <th>under-five_deaths</th>      <td>   -8.5453</td> <td>    3.389</td> <td>   -2.522</td> <td> 0.013</td> <td>  -15.258</td> <td>   -1.833</td>\n",
       "</tr>\n",
       "<tr>\n",
       "  <th>polio</th>                  <td>    0.6764</td> <td>    0.372</td> <td>    1.816</td> <td> 0.072</td> <td>   -0.061</td> <td>    1.414</td>\n",
       "</tr>\n",
       "<tr>\n",
       "  <th>diphtheria</th>             <td>    0.4926</td> <td>    0.705</td> <td>    0.699</td> <td> 0.486</td> <td>   -0.904</td> <td>    1.889</td>\n",
       "</tr>\n",
       "<tr>\n",
       "  <th>hiv/aids</th>               <td>   -0.8123</td> <td>    0.398</td> <td>   -2.042</td> <td> 0.043</td> <td>   -1.600</td> <td>   -0.024</td>\n",
       "</tr>\n",
       "<tr>\n",
       "  <th>gdp</th>                    <td>    0.2515</td> <td>    0.349</td> <td>    0.721</td> <td> 0.472</td> <td>   -0.440</td> <td>    0.942</td>\n",
       "</tr>\n",
       "<tr>\n",
       "  <th>population</th>             <td>    0.0616</td> <td>    0.338</td> <td>    0.182</td> <td> 0.856</td> <td>   -0.608</td> <td>    0.731</td>\n",
       "</tr>\n",
       "<tr>\n",
       "  <th>thinness__1-19_years</th>   <td>   -1.1334</td> <td>    1.197</td> <td>   -0.947</td> <td> 0.346</td> <td>   -3.504</td> <td>    1.237</td>\n",
       "</tr>\n",
       "<tr>\n",
       "  <th>thinness_5-9_years</th>     <td>    0.0121</td> <td>    1.200</td> <td>    0.010</td> <td> 0.992</td> <td>   -2.365</td> <td>    2.389</td>\n",
       "</tr>\n",
       "<tr>\n",
       "  <th>schooling</th>              <td>    3.4106</td> <td>    0.467</td> <td>    7.298</td> <td> 0.000</td> <td>    2.485</td> <td>    4.336</td>\n",
       "</tr>\n",
       "</table>\n",
       "<table class=\"simpletable\">\n",
       "<tr>\n",
       "  <th>Omnibus:</th>       <td> 0.441</td> <th>  Durbin-Watson:     </th> <td>   1.891</td>\n",
       "</tr>\n",
       "<tr>\n",
       "  <th>Prob(Omnibus):</th> <td> 0.802</td> <th>  Jarque-Bera (JB):  </th> <td>   0.320</td>\n",
       "</tr>\n",
       "<tr>\n",
       "  <th>Skew:</th>          <td>-0.122</td> <th>  Prob(JB):          </th> <td>   0.852</td>\n",
       "</tr>\n",
       "<tr>\n",
       "  <th>Kurtosis:</th>      <td> 3.004</td> <th>  Cond. No.          </th> <td>    39.0</td>\n",
       "</tr>\n",
       "</table><br/><br/>Warnings:<br/>[1] Standard Errors assume that the covariance matrix of the errors is correctly specified."
      ],
      "text/plain": [
       "<class 'statsmodels.iolib.summary.Summary'>\n",
       "\"\"\"\n",
       "                            OLS Regression Results                            \n",
       "==============================================================================\n",
       "Dep. Variable:        life_expectancy   R-squared:                       0.861\n",
       "Model:                            OLS   Adj. R-squared:                  0.843\n",
       "Method:                 Least Squares   F-statistic:                     47.05\n",
       "Date:                Thu, 11 Jun 2020   Prob (F-statistic):           1.17e-41\n",
       "Time:                        08:43:35   Log-Likelihood:                -326.01\n",
       "No. Observations:                 130   AIC:                             684.0\n",
       "Df Residuals:                     114   BIC:                             729.9\n",
       "Df Model:                          15                                         \n",
       "Covariance Type:            nonrobust                                         \n",
       "==========================================================================================\n",
       "                             coef    std err          t      P>|t|      [0.025      0.975]\n",
       "------------------------------------------------------------------------------------------\n",
       "const                     70.7415      0.278    254.245      0.000      70.190      71.293\n",
       "adult_mortality           -2.8890      0.395     -7.311      0.000      -3.672      -2.106\n",
       "infant_deaths              9.6596      3.668      2.633      0.010       2.392      16.927\n",
       "percentage_expenditure     0.1418      0.280      0.506      0.614      -0.413       0.697\n",
       "hepatitis_b                0.3510      0.650      0.540      0.590      -0.936       1.638\n",
       "measles                   -0.9300      0.607     -1.532      0.128      -2.133       0.273\n",
       "bmi                        0.1295      0.381      0.340      0.734      -0.624       0.883\n",
       "under-five_deaths         -8.5453      3.389     -2.522      0.013     -15.258      -1.833\n",
       "polio                      0.6764      0.372      1.816      0.072      -0.061       1.414\n",
       "diphtheria                 0.4926      0.705      0.699      0.486      -0.904       1.889\n",
       "hiv/aids                  -0.8123      0.398     -2.042      0.043      -1.600      -0.024\n",
       "gdp                        0.2515      0.349      0.721      0.472      -0.440       0.942\n",
       "population                 0.0616      0.338      0.182      0.856      -0.608       0.731\n",
       "thinness__1-19_years      -1.1334      1.197     -0.947      0.346      -3.504       1.237\n",
       "thinness_5-9_years         0.0121      1.200      0.010      0.992      -2.365       2.389\n",
       "schooling                  3.4106      0.467      7.298      0.000       2.485       4.336\n",
       "==============================================================================\n",
       "Omnibus:                        0.441   Durbin-Watson:                   1.891\n",
       "Prob(Omnibus):                  0.802   Jarque-Bera (JB):                0.320\n",
       "Skew:                          -0.122   Prob(JB):                        0.852\n",
       "Kurtosis:                       3.004   Cond. No.                         39.0\n",
       "==============================================================================\n",
       "\n",
       "Warnings:\n",
       "[1] Standard Errors assume that the covariance matrix of the errors is correctly specified.\n",
       "\"\"\""
      ]
     },
     "execution_count": 163,
     "metadata": {},
     "output_type": "execute_result"
    }
   ],
   "source": [
    "OLS(X_scaled, y, constant=True).summary()"
   ]
  },
  {
   "cell_type": "markdown",
   "metadata": {},
   "source": [
    "There are some somewhat non intitutive relationships being described by this model, and there are still many dependant variablers with p-values greater than 0.05. The main purpose of this warmup was to look at basic code for Linear Regression, but the assumptions of Linear Regression must be checked for a project such as this to be valid. Before moving any further, these questions should answered.\n",
    "\n",
    "- Are the relationships between dependant variables and the independant variable Linear? \n",
    "- Are the residuals homoskedastic?\n",
    "- Are the dependant features correlated with each other?\n",
    "- Is there auto-correlation?"
   ]
  },
  {
   "cell_type": "code",
   "execution_count": null,
   "metadata": {},
   "outputs": [],
   "source": []
  }
 ],
 "metadata": {
  "hide_input": false,
  "kernelspec": {
   "display_name": "Python 3",
   "language": "python",
   "name": "python3"
  },
  "language_info": {
   "codemirror_mode": {
    "name": "ipython",
    "version": 3
   },
   "file_extension": ".py",
   "mimetype": "text/x-python",
   "name": "python",
   "nbconvert_exporter": "python",
   "pygments_lexer": "ipython3",
   "version": "3.7.3"
  },
  "toc": {
   "base_numbering": 1,
   "nav_menu": {},
   "number_sections": false,
   "sideBar": true,
   "skip_h1_title": true,
   "title_cell": "Table of Contents",
   "title_sidebar": "Contents",
   "toc_cell": false,
   "toc_position": {},
   "toc_section_display": true,
   "toc_window_display": false
  },
  "varInspector": {
   "cols": {
    "lenName": 16,
    "lenType": 16,
    "lenVar": 40
   },
   "kernels_config": {
    "python": {
     "delete_cmd_postfix": "",
     "delete_cmd_prefix": "del ",
     "library": "var_list.py",
     "varRefreshCmd": "print(var_dic_list())"
    },
    "r": {
     "delete_cmd_postfix": ") ",
     "delete_cmd_prefix": "rm(",
     "library": "var_list.r",
     "varRefreshCmd": "cat(var_dic_list()) "
    }
   },
   "types_to_exclude": [
    "module",
    "function",
    "builtin_function_or_method",
    "instance",
    "_Feature"
   ],
   "window_display": false
  }
 },
 "nbformat": 4,
 "nbformat_minor": 2
}
