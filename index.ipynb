{
 "cells": [
  {
   "cell_type": "markdown",
   "metadata": {},
   "source": [
    "# Linear Regression"
   ]
  },
  {
   "cell_type": "markdown",
   "metadata": {},
   "source": [
    "This morning's warmup will more a codealong.\n",
    "\n",
    "Since we're nearing the end of mod project, let's make sure we have the code down for fitting a linear regression model!\n",
    "\n",
    "Below we import life expectancy data for 193 countries from 2000-2015."
   ]
  },
  {
   "cell_type": "code",
   "execution_count": 62,
   "metadata": {
    "ExecuteTime": {
     "end_time": "2020-06-11T06:08:25.507277Z",
     "start_time": "2020-06-11T06:08:24.319692Z"
    }
   },
   "outputs": [],
   "source": [
    "import pandas as pd\n",
    "\n",
    "df = pd.read_csv('https://gist.githubusercontent.com/joelsewhere/a61e90c0d88cddb052975d65835bc339/raw/20743a0ea41fae58dbee2f166e5d0af56a5f4242/life_expectancy.csv')"
   ]
  },
  {
   "cell_type": "markdown",
   "metadata": {},
   "source": [
    "For this warmup, let's:\n",
    "- Limit the dataset to the year 2015\n",
    "- Remove all columns containing strings\n",
    "- Lower the column names and replace spaces with underscores"
   ]
  },
  {
   "cell_type": "code",
   "execution_count": 63,
   "metadata": {
    "ExecuteTime": {
     "end_time": "2020-06-11T06:08:27.095536Z",
     "start_time": "2020-06-11T06:08:27.083627Z"
    }
   },
   "outputs": [],
   "source": [
    "df = df[df.Year == 2015]\n",
    "df = df.select_dtypes(exclude=['object'])\n",
    "df.columns = [x.lower().strip().replace(' ', '_') for x in df.columns]"
   ]
  },
  {
   "cell_type": "markdown",
   "metadata": {},
   "source": [
    "Great, let's make sure we don't have any null values!"
   ]
  },
  {
   "cell_type": "code",
   "execution_count": 64,
   "metadata": {
    "ExecuteTime": {
     "end_time": "2020-06-11T06:08:28.722872Z",
     "start_time": "2020-06-11T06:08:28.713298Z"
    }
   },
   "outputs": [
    {
     "name": "stdout",
     "output_type": "stream",
     "text": [
      "<class 'pandas.core.frame.DataFrame'>\n",
      "Int64Index: 183 entries, 0 to 2922\n",
      "Data columns (total 20 columns):\n",
      "year                               183 non-null int64\n",
      "life_expectancy                    183 non-null float64\n",
      "adult_mortality                    183 non-null float64\n",
      "infant_deaths                      183 non-null int64\n",
      "alcohol                            6 non-null float64\n",
      "percentage_expenditure             183 non-null float64\n",
      "hepatitis_b                        174 non-null float64\n",
      "measles                            183 non-null int64\n",
      "bmi                                181 non-null float64\n",
      "under-five_deaths                  183 non-null int64\n",
      "polio                              183 non-null float64\n",
      "total_expenditure                  2 non-null float64\n",
      "diphtheria                         183 non-null float64\n",
      "hiv/aids                           183 non-null float64\n",
      "gdp                                154 non-null float64\n",
      "population                         142 non-null float64\n",
      "thinness__1-19_years               181 non-null float64\n",
      "thinness_5-9_years                 181 non-null float64\n",
      "income_composition_of_resources    173 non-null float64\n",
      "schooling                          173 non-null float64\n",
      "dtypes: float64(16), int64(4)\n",
      "memory usage: 30.0 KB\n"
     ]
    }
   ],
   "source": [
    "df.info()"
   ]
  },
  {
   "cell_type": "markdown",
   "metadata": {},
   "source": [
    "# $Yikes$\n",
    "\n",
    "Ok, let's first drop the ```alcohol``` and ```total_expenditure``` columns.\n",
    "\n",
    "Once we've done that we can drop any other rows that have null values. \n",
    "\n",
    "We will also drop our ```year``` column for now."
   ]
  },
  {
   "cell_type": "code",
   "execution_count": 65,
   "metadata": {
    "ExecuteTime": {
     "end_time": "2020-06-11T06:08:30.571781Z",
     "start_time": "2020-06-11T06:08:30.457307Z"
    }
   },
   "outputs": [],
   "source": [
    "df.drop(['alcohol', 'total_expenditure', 'year'], axis = 1, inplace = True)\n",
    "df.dropna(inplace=True)"
   ]
  },
  {
   "cell_type": "markdown",
   "metadata": {},
   "source": [
    "Next we need to isolate out X and y data.\n",
    "\n",
    "For this dataset, the column ```life_expectancy``` is our target column *(our y column)*"
   ]
  },
  {
   "cell_type": "code",
   "execution_count": 66,
   "metadata": {
    "ExecuteTime": {
     "end_time": "2020-06-11T06:08:32.465796Z",
     "start_time": "2020-06-11T06:08:32.462152Z"
    }
   },
   "outputs": [],
   "source": [
    "X = df.drop('life_expectancy', axis=1)\n",
    "y = df['life_expectancy']"
   ]
  },
  {
   "cell_type": "markdown",
   "metadata": {},
   "source": [
    "Ok, now in the cell below import ```statsmodels.api as sm```."
   ]
  },
  {
   "cell_type": "code",
   "execution_count": 67,
   "metadata": {
    "ExecuteTime": {
     "end_time": "2020-06-11T06:08:33.744630Z",
     "start_time": "2020-06-11T06:08:33.741541Z"
    }
   },
   "outputs": [],
   "source": [
    "import statsmodels.api as sm"
   ]
  },
  {
   "cell_type": "markdown",
   "metadata": {},
   "source": [
    "And then we fit out model!"
   ]
  },
  {
   "cell_type": "code",
   "execution_count": 100,
   "metadata": {
    "ExecuteTime": {
     "end_time": "2020-06-11T06:21:40.522155Z",
     "start_time": "2020-06-11T06:21:40.469447Z"
    }
   },
   "outputs": [
    {
     "data": {
      "text/html": [
       "<table class=\"simpletable\">\n",
       "<caption>OLS Regression Results</caption>\n",
       "<tr>\n",
       "  <th>Dep. Variable:</th>     <td>life_expectancy</td> <th>  R-squared (uncentered):</th>      <td>   0.993</td> \n",
       "</tr>\n",
       "<tr>\n",
       "  <th>Model:</th>                   <td>OLS</td>       <th>  Adj. R-squared (uncentered):</th> <td>   0.992</td> \n",
       "</tr>\n",
       "<tr>\n",
       "  <th>Method:</th>             <td>Least Squares</td>  <th>  F-statistic:       </th>          <td>   999.2</td> \n",
       "</tr>\n",
       "<tr>\n",
       "  <th>Date:</th>             <td>Thu, 11 Jun 2020</td> <th>  Prob (F-statistic):</th>          <td>1.68e-114</td>\n",
       "</tr>\n",
       "<tr>\n",
       "  <th>Time:</th>                 <td>01:21:40</td>     <th>  Log-Likelihood:    </th>          <td> -417.18</td> \n",
       "</tr>\n",
       "<tr>\n",
       "  <th>No. Observations:</th>      <td>   130</td>      <th>  AIC:               </th>          <td>   866.4</td> \n",
       "</tr>\n",
       "<tr>\n",
       "  <th>Df Residuals:</th>          <td>   114</td>      <th>  BIC:               </th>          <td>   912.2</td> \n",
       "</tr>\n",
       "<tr>\n",
       "  <th>Df Model:</th>              <td>    16</td>      <th>                     </th>              <td> </td>    \n",
       "</tr>\n",
       "<tr>\n",
       "  <th>Covariance Type:</th>      <td>nonrobust</td>    <th>                     </th>              <td> </td>    \n",
       "</tr>\n",
       "</table>\n",
       "<table class=\"simpletable\">\n",
       "<tr>\n",
       "                 <td></td>                    <th>coef</th>     <th>std err</th>      <th>t</th>      <th>P>|t|</th>  <th>[0.025</th>    <th>0.975]</th>  \n",
       "</tr>\n",
       "<tr>\n",
       "  <th>adult_mortality</th>                 <td>    0.0128</td> <td>    0.008</td> <td>    1.643</td> <td> 0.103</td> <td>   -0.003</td> <td>    0.028</td>\n",
       "</tr>\n",
       "<tr>\n",
       "  <th>infant_deaths</th>                   <td>   -0.0887</td> <td>    0.076</td> <td>   -1.162</td> <td> 0.248</td> <td>   -0.240</td> <td>    0.062</td>\n",
       "</tr>\n",
       "<tr>\n",
       "  <th>percentage_expenditure</th>          <td>    0.0069</td> <td>    0.017</td> <td>    0.394</td> <td> 0.694</td> <td>   -0.028</td> <td>    0.041</td>\n",
       "</tr>\n",
       "<tr>\n",
       "  <th>hepatitis_b</th>                     <td>    0.0489</td> <td>    0.054</td> <td>    0.912</td> <td> 0.363</td> <td>   -0.057</td> <td>    0.155</td>\n",
       "</tr>\n",
       "<tr>\n",
       "  <th>measles</th>                         <td>  4.99e-05</td> <td>    0.000</td> <td>    0.369</td> <td> 0.713</td> <td>   -0.000</td> <td>    0.000</td>\n",
       "</tr>\n",
       "<tr>\n",
       "  <th>bmi</th>                             <td>    0.0029</td> <td>    0.037</td> <td>    0.080</td> <td> 0.936</td> <td>   -0.070</td> <td>    0.076</td>\n",
       "</tr>\n",
       "<tr>\n",
       "  <th>under-five_deaths</th>               <td>    0.0568</td> <td>    0.055</td> <td>    1.036</td> <td> 0.302</td> <td>   -0.052</td> <td>    0.165</td>\n",
       "</tr>\n",
       "<tr>\n",
       "  <th>polio</th>                           <td>    0.0411</td> <td>    0.030</td> <td>    1.371</td> <td> 0.173</td> <td>   -0.018</td> <td>    0.100</td>\n",
       "</tr>\n",
       "<tr>\n",
       "  <th>diphtheria</th>                      <td>    0.0151</td> <td>    0.062</td> <td>    0.243</td> <td> 0.808</td> <td>   -0.108</td> <td>    0.138</td>\n",
       "</tr>\n",
       "<tr>\n",
       "  <th>hiv/aids</th>                        <td>    0.3207</td> <td>    0.524</td> <td>    0.612</td> <td> 0.541</td> <td>   -0.717</td> <td>    1.358</td>\n",
       "</tr>\n",
       "<tr>\n",
       "  <th>gdp</th>                             <td>   -0.0002</td> <td>  6.7e-05</td> <td>   -2.871</td> <td> 0.005</td> <td>   -0.000</td> <td>-5.97e-05</td>\n",
       "</tr>\n",
       "<tr>\n",
       "  <th>population</th>                      <td> 4.223e-09</td> <td> 2.27e-08</td> <td>    0.186</td> <td> 0.853</td> <td>-4.07e-08</td> <td> 4.92e-08</td>\n",
       "</tr>\n",
       "<tr>\n",
       "  <th>thinness__1-19_years</th>            <td>    0.3341</td> <td>    0.553</td> <td>    0.604</td> <td> 0.547</td> <td>   -0.762</td> <td>    1.430</td>\n",
       "</tr>\n",
       "<tr>\n",
       "  <th>thinness_5-9_years</th>              <td>    0.4688</td> <td>    0.540</td> <td>    0.868</td> <td> 0.387</td> <td>   -0.601</td> <td>    1.539</td>\n",
       "</tr>\n",
       "<tr>\n",
       "  <th>income_composition_of_resources</th> <td>   78.5533</td> <td>   10.841</td> <td>    7.246</td> <td> 0.000</td> <td>   57.076</td> <td>  100.030</td>\n",
       "</tr>\n",
       "<tr>\n",
       "  <th>schooling</th>                       <td>    0.2954</td> <td>    0.566</td> <td>    0.522</td> <td> 0.602</td> <td>   -0.825</td> <td>    1.416</td>\n",
       "</tr>\n",
       "</table>\n",
       "<table class=\"simpletable\">\n",
       "<tr>\n",
       "  <th>Omnibus:</th>       <td> 2.667</td> <th>  Durbin-Watson:     </th> <td>   2.107</td>\n",
       "</tr>\n",
       "<tr>\n",
       "  <th>Prob(Omnibus):</th> <td> 0.264</td> <th>  Jarque-Bera (JB):  </th> <td>   2.468</td>\n",
       "</tr>\n",
       "<tr>\n",
       "  <th>Skew:</th>          <td> 0.337</td> <th>  Prob(JB):          </th> <td>   0.291</td>\n",
       "</tr>\n",
       "<tr>\n",
       "  <th>Kurtosis:</th>      <td> 2.985</td> <th>  Cond. No.          </th> <td>6.24e+08</td>\n",
       "</tr>\n",
       "</table><br/><br/>Warnings:<br/>[1] Standard Errors assume that the covariance matrix of the errors is correctly specified.<br/>[2] The condition number is large, 6.24e+08. This might indicate that there are<br/>strong multicollinearity or other numerical problems."
      ],
      "text/plain": [
       "<class 'statsmodels.iolib.summary.Summary'>\n",
       "\"\"\"\n",
       "                                 OLS Regression Results                                \n",
       "=======================================================================================\n",
       "Dep. Variable:        life_expectancy   R-squared (uncentered):                   0.993\n",
       "Model:                            OLS   Adj. R-squared (uncentered):              0.992\n",
       "Method:                 Least Squares   F-statistic:                              999.2\n",
       "Date:                Thu, 11 Jun 2020   Prob (F-statistic):                   1.68e-114\n",
       "Time:                        01:21:40   Log-Likelihood:                         -417.18\n",
       "No. Observations:                 130   AIC:                                      866.4\n",
       "Df Residuals:                     114   BIC:                                      912.2\n",
       "Df Model:                          16                                                  \n",
       "Covariance Type:            nonrobust                                                  \n",
       "===================================================================================================\n",
       "                                      coef    std err          t      P>|t|      [0.025      0.975]\n",
       "---------------------------------------------------------------------------------------------------\n",
       "adult_mortality                     0.0128      0.008      1.643      0.103      -0.003       0.028\n",
       "infant_deaths                      -0.0887      0.076     -1.162      0.248      -0.240       0.062\n",
       "percentage_expenditure              0.0069      0.017      0.394      0.694      -0.028       0.041\n",
       "hepatitis_b                         0.0489      0.054      0.912      0.363      -0.057       0.155\n",
       "measles                           4.99e-05      0.000      0.369      0.713      -0.000       0.000\n",
       "bmi                                 0.0029      0.037      0.080      0.936      -0.070       0.076\n",
       "under-five_deaths                   0.0568      0.055      1.036      0.302      -0.052       0.165\n",
       "polio                               0.0411      0.030      1.371      0.173      -0.018       0.100\n",
       "diphtheria                          0.0151      0.062      0.243      0.808      -0.108       0.138\n",
       "hiv/aids                            0.3207      0.524      0.612      0.541      -0.717       1.358\n",
       "gdp                                -0.0002    6.7e-05     -2.871      0.005      -0.000   -5.97e-05\n",
       "population                       4.223e-09   2.27e-08      0.186      0.853   -4.07e-08    4.92e-08\n",
       "thinness__1-19_years                0.3341      0.553      0.604      0.547      -0.762       1.430\n",
       "thinness_5-9_years                  0.4688      0.540      0.868      0.387      -0.601       1.539\n",
       "income_composition_of_resources    78.5533     10.841      7.246      0.000      57.076     100.030\n",
       "schooling                           0.2954      0.566      0.522      0.602      -0.825       1.416\n",
       "==============================================================================\n",
       "Omnibus:                        2.667   Durbin-Watson:                   2.107\n",
       "Prob(Omnibus):                  0.264   Jarque-Bera (JB):                2.468\n",
       "Skew:                           0.337   Prob(JB):                        0.291\n",
       "Kurtosis:                       2.985   Cond. No.                     6.24e+08\n",
       "==============================================================================\n",
       "\n",
       "Warnings:\n",
       "[1] Standard Errors assume that the covariance matrix of the errors is correctly specified.\n",
       "[2] The condition number is large, 6.24e+08. This might indicate that there are\n",
       "strong multicollinearity or other numerical problems.\n",
       "\"\"\""
      ]
     },
     "execution_count": 100,
     "metadata": {},
     "output_type": "execute_result"
    }
   ],
   "source": [
    "model = sm.OLS(y, X).fit()\n",
    "model.summary()"
   ]
  },
  {
   "cell_type": "markdown",
   "metadata": {},
   "source": [
    "**How well is our model explaining the variance of our data?**"
   ]
  },
  {
   "cell_type": "code",
   "execution_count": null,
   "metadata": {},
   "outputs": [],
   "source": []
  },
  {
   "cell_type": "markdown",
   "metadata": {},
   "source": [
    "**Before we go, let's fit an sklearn model as well.**"
   ]
  },
  {
   "cell_type": "code",
   "execution_count": 75,
   "metadata": {
    "ExecuteTime": {
     "end_time": "2020-06-11T06:11:55.708106Z",
     "start_time": "2020-06-11T06:11:55.704672Z"
    }
   },
   "outputs": [],
   "source": [
    "from sklearn.linear_model import LinearRegression\n",
    "import sklearn.metrics as metrics"
   ]
  },
  {
   "cell_type": "markdown",
   "metadata": {},
   "source": [
    "First we create a model object."
   ]
  },
  {
   "cell_type": "code",
   "execution_count": 74,
   "metadata": {
    "ExecuteTime": {
     "end_time": "2020-06-11T06:11:30.082515Z",
     "start_time": "2020-06-11T06:11:30.055450Z"
    }
   },
   "outputs": [
    {
     "data": {
      "text/plain": [
       "LinearRegression(copy_X=True, fit_intercept=True, n_jobs=None, normalize=False)"
      ]
     },
     "execution_count": 74,
     "metadata": {},
     "output_type": "execute_result"
    }
   ],
   "source": [
    "lr = LinearRegression()"
   ]
  },
  {
   "cell_type": "markdown",
   "metadata": {},
   "source": [
    "Then we fit the model object on our X, and y data."
   ]
  },
  {
   "cell_type": "code",
   "execution_count": null,
   "metadata": {},
   "outputs": [],
   "source": [
    "lr.fit(X, y)"
   ]
  },
  {
   "cell_type": "markdown",
   "metadata": {},
   "source": [
    "Next we use the model to predict values for our X data."
   ]
  },
  {
   "cell_type": "code",
   "execution_count": 101,
   "metadata": {
    "ExecuteTime": {
     "end_time": "2020-06-11T06:23:05.181746Z",
     "start_time": "2020-06-11T06:23:05.170008Z"
    }
   },
   "outputs": [],
   "source": [
    "y_hat = lr.predict(X)"
   ]
  },
  {
   "cell_type": "markdown",
   "metadata": {
    "ExecuteTime": {
     "end_time": "2020-06-11T06:23:19.603023Z",
     "start_time": "2020-06-11T06:23:19.593033Z"
    }
   },
   "source": [
    "Then we compare our predictions to the actual y values"
   ]
  },
  {
   "cell_type": "code",
   "execution_count": 103,
   "metadata": {
    "ExecuteTime": {
     "end_time": "2020-06-11T06:23:29.589853Z",
     "start_time": "2020-06-11T06:23:29.581818Z"
    }
   },
   "outputs": [
    {
     "data": {
      "text/plain": [
       "0.9008630576092219"
      ]
     },
     "execution_count": 103,
     "metadata": {},
     "output_type": "execute_result"
    }
   ],
   "source": [
    "metrics.r2_score(y, y_hat)"
   ]
  },
  {
   "cell_type": "markdown",
   "metadata": {},
   "source": [
    "Now let's plot our coefficients!"
   ]
  },
  {
   "cell_type": "code",
   "execution_count": 110,
   "metadata": {
    "ExecuteTime": {
     "end_time": "2020-06-11T06:25:39.505038Z",
     "start_time": "2020-06-11T06:25:39.496369Z"
    }
   },
   "outputs": [],
   "source": [
    "def plot_coefficients(column_names, coefficients):\n",
    "    plt.figure(figsize=(15,8))\n",
    "    zipped = list(zip(column_names,coefficients))\n",
    "    zipped = sorted(zipped, key= lambda x: x[1])\n",
    "    \n",
    "    xaxis = [x[0] for x in zipped]\n",
    "    yaxis = [x[1] for x in zipped]\n",
    "    \n",
    "    plt.bar(xaxis, yaxis)\n",
    "    plt.xticks(rotation=60)\n",
    "    plt.title('Coefficients')"
   ]
  },
  {
   "cell_type": "code",
   "execution_count": 111,
   "metadata": {
    "ExecuteTime": {
     "end_time": "2020-06-11T06:25:40.829323Z",
     "start_time": "2020-06-11T06:25:40.541262Z"
    }
   },
   "outputs": [
    {
     "data": {
      "image/png": "[encoded data removed]",
      "text/plain": [
       "<Figure size 1080x576 with 1 Axes>"
      ]
     },
     "metadata": {
      "needs_background": "light"
     },
     "output_type": "display_data"
    }
   ],
   "source": [
    "plot_coefficients(X.columns, lr.coef_)"
   ]
  },
  {
   "cell_type": "markdown",
   "metadata": {
    "ExecuteTime": {
     "end_time": "2020-06-11T06:26:58.525827Z",
     "start_time": "2020-06-11T06:26:58.516658Z"
    }
   },
   "source": [
    "There are some major differences between the coefficients. It might be beneficial to scale our data using Sklearn's Standard Scaler."
   ]
  },
  {
   "cell_type": "code",
   "execution_count": 115,
   "metadata": {
    "ExecuteTime": {
     "end_time": "2020-06-11T06:28:16.924542Z",
     "start_time": "2020-06-11T06:28:16.920009Z"
    }
   },
   "outputs": [],
   "source": [
    "from sklearn import preprocessing"
   ]
  },
  {
   "cell_type": "code",
   "execution_count": 119,
   "metadata": {
    "ExecuteTime": {
     "end_time": "2020-06-11T06:29:11.387273Z",
     "start_time": "2020-06-11T06:29:11.382913Z"
    }
   },
   "outputs": [],
   "source": [
    "scaler = preprocessing.StandardScaler()\n",
    "X_scaled = scaler.fit_transform(X)\n",
    "X_scaled = pd.DataFrame(X, columns = X.columns)"
   ]
  },
  {
   "cell_type": "markdown",
   "metadata": {},
   "source": [
    "To speed things up, let's compile out modeling code into functions"
   ]
  },
  {
   "cell_type": "code",
   "execution_count": 131,
   "metadata": {
    "ExecuteTime": {
     "end_time": "2020-06-11T06:36:12.259815Z",
     "start_time": "2020-06-11T06:36:12.234011Z"
    }
   },
   "outputs": [],
   "source": [
    "def OLS(X, y):\n",
    "    return sm.OLS(y, X).fit()\n",
    "\n",
    "def linear_regression(X,y):\n",
    "    lr = LinearRegression()\n",
    "    lr.fit(X, y)\n",
    "    y_hat = lr.predict(X)\n",
    "    r_squared = metrics.r2_score(y, y_hat)\n",
    "    print(\"R^2:\", r_squared)\n",
    "    plot_coefficients(X.columns, lr.coef_)\n",
    "    return lr"
   ]
  },
  {
   "cell_type": "code",
   "execution_count": 129,
   "metadata": {
    "ExecuteTime": {
     "end_time": "2020-06-11T06:35:01.487135Z",
     "start_time": "2020-06-11T06:35:01.460669Z"
    }
   },
   "outputs": [
    {
     "data": {
      "text/html": [
       "<table class=\"simpletable\">\n",
       "<caption>OLS Regression Results</caption>\n",
       "<tr>\n",
       "  <th>Dep. Variable:</th>     <td>life_expectancy</td> <th>  R-squared (uncentered):</th>      <td>   0.993</td> \n",
       "</tr>\n",
       "<tr>\n",
       "  <th>Model:</th>                   <td>OLS</td>       <th>  Adj. R-squared (uncentered):</th> <td>   0.992</td> \n",
       "</tr>\n",
       "<tr>\n",
       "  <th>Method:</th>             <td>Least Squares</td>  <th>  F-statistic:       </th>          <td>   999.2</td> \n",
       "</tr>\n",
       "<tr>\n",
       "  <th>Date:</th>             <td>Thu, 11 Jun 2020</td> <th>  Prob (F-statistic):</th>          <td>1.68e-114</td>\n",
       "</tr>\n",
       "<tr>\n",
       "  <th>Time:</th>                 <td>01:35:01</td>     <th>  Log-Likelihood:    </th>          <td> -417.18</td> \n",
       "</tr>\n",
       "<tr>\n",
       "  <th>No. Observations:</th>      <td>   130</td>      <th>  AIC:               </th>          <td>   866.4</td> \n",
       "</tr>\n",
       "<tr>\n",
       "  <th>Df Residuals:</th>          <td>   114</td>      <th>  BIC:               </th>          <td>   912.2</td> \n",
       "</tr>\n",
       "<tr>\n",
       "  <th>Df Model:</th>              <td>    16</td>      <th>                     </th>              <td> </td>    \n",
       "</tr>\n",
       "<tr>\n",
       "  <th>Covariance Type:</th>      <td>nonrobust</td>    <th>                     </th>              <td> </td>    \n",
       "</tr>\n",
       "</table>\n",
       "<table class=\"simpletable\">\n",
       "<tr>\n",
       "                 <td></td>                    <th>coef</th>     <th>std err</th>      <th>t</th>      <th>P>|t|</th>  <th>[0.025</th>    <th>0.975]</th>  \n",
       "</tr>\n",
       "<tr>\n",
       "  <th>adult_mortality</th>                 <td>    0.0128</td> <td>    0.008</td> <td>    1.643</td> <td> 0.103</td> <td>   -0.003</td> <td>    0.028</td>\n",
       "</tr>\n",
       "<tr>\n",
       "  <th>infant_deaths</th>                   <td>   -0.0887</td> <td>    0.076</td> <td>   -1.162</td> <td> 0.248</td> <td>   -0.240</td> <td>    0.062</td>\n",
       "</tr>\n",
       "<tr>\n",
       "  <th>percentage_expenditure</th>          <td>    0.0069</td> <td>    0.017</td> <td>    0.394</td> <td> 0.694</td> <td>   -0.028</td> <td>    0.041</td>\n",
       "</tr>\n",
       "<tr>\n",
       "  <th>hepatitis_b</th>                     <td>    0.0489</td> <td>    0.054</td> <td>    0.912</td> <td> 0.363</td> <td>   -0.057</td> <td>    0.155</td>\n",
       "</tr>\n",
       "<tr>\n",
       "  <th>measles</th>                         <td>  4.99e-05</td> <td>    0.000</td> <td>    0.369</td> <td> 0.713</td> <td>   -0.000</td> <td>    0.000</td>\n",
       "</tr>\n",
       "<tr>\n",
       "  <th>bmi</th>                             <td>    0.0029</td> <td>    0.037</td> <td>    0.080</td> <td> 0.936</td> <td>   -0.070</td> <td>    0.076</td>\n",
       "</tr>\n",
       "<tr>\n",
       "  <th>under-five_deaths</th>               <td>    0.0568</td> <td>    0.055</td> <td>    1.036</td> <td> 0.302</td> <td>   -0.052</td> <td>    0.165</td>\n",
       "</tr>\n",
       "<tr>\n",
       "  <th>polio</th>                           <td>    0.0411</td> <td>    0.030</td> <td>    1.371</td> <td> 0.173</td> <td>   -0.018</td> <td>    0.100</td>\n",
       "</tr>\n",
       "<tr>\n",
       "  <th>diphtheria</th>                      <td>    0.0151</td> <td>    0.062</td> <td>    0.243</td> <td> 0.808</td> <td>   -0.108</td> <td>    0.138</td>\n",
       "</tr>\n",
       "<tr>\n",
       "  <th>hiv/aids</th>                        <td>    0.3207</td> <td>    0.524</td> <td>    0.612</td> <td> 0.541</td> <td>   -0.717</td> <td>    1.358</td>\n",
       "</tr>\n",
       "<tr>\n",
       "  <th>gdp</th>                             <td>   -0.0002</td> <td>  6.7e-05</td> <td>   -2.871</td> <td> 0.005</td> <td>   -0.000</td> <td>-5.97e-05</td>\n",
       "</tr>\n",
       "<tr>\n",
       "  <th>population</th>                      <td> 4.223e-09</td> <td> 2.27e-08</td> <td>    0.186</td> <td> 0.853</td> <td>-4.07e-08</td> <td> 4.92e-08</td>\n",
       "</tr>\n",
       "<tr>\n",
       "  <th>thinness__1-19_years</th>            <td>    0.3341</td> <td>    0.553</td> <td>    0.604</td> <td> 0.547</td> <td>   -0.762</td> <td>    1.430</td>\n",
       "</tr>\n",
       "<tr>\n",
       "  <th>thinness_5-9_years</th>              <td>    0.4688</td> <td>    0.540</td> <td>    0.868</td> <td> 0.387</td> <td>   -0.601</td> <td>    1.539</td>\n",
       "</tr>\n",
       "<tr>\n",
       "  <th>income_composition_of_resources</th> <td>   78.5533</td> <td>   10.841</td> <td>    7.246</td> <td> 0.000</td> <td>   57.076</td> <td>  100.030</td>\n",
       "</tr>\n",
       "<tr>\n",
       "  <th>schooling</th>                       <td>    0.2954</td> <td>    0.566</td> <td>    0.522</td> <td> 0.602</td> <td>   -0.825</td> <td>    1.416</td>\n",
       "</tr>\n",
       "</table>\n",
       "<table class=\"simpletable\">\n",
       "<tr>\n",
       "  <th>Omnibus:</th>       <td> 2.667</td> <th>  Durbin-Watson:     </th> <td>   2.107</td>\n",
       "</tr>\n",
       "<tr>\n",
       "  <th>Prob(Omnibus):</th> <td> 0.264</td> <th>  Jarque-Bera (JB):  </th> <td>   2.468</td>\n",
       "</tr>\n",
       "<tr>\n",
       "  <th>Skew:</th>          <td> 0.337</td> <th>  Prob(JB):          </th> <td>   0.291</td>\n",
       "</tr>\n",
       "<tr>\n",
       "  <th>Kurtosis:</th>      <td> 2.985</td> <th>  Cond. No.          </th> <td>6.24e+08</td>\n",
       "</tr>\n",
       "</table><br/><br/>Warnings:<br/>[1] Standard Errors assume that the covariance matrix of the errors is correctly specified.<br/>[2] The condition number is large, 6.24e+08. This might indicate that there are<br/>strong multicollinearity or other numerical problems."
      ],
      "text/plain": [
       "<class 'statsmodels.iolib.summary.Summary'>\n",
       "\"\"\"\n",
       "                                 OLS Regression Results                                \n",
       "=======================================================================================\n",
       "Dep. Variable:        life_expectancy   R-squared (uncentered):                   0.993\n",
       "Model:                            OLS   Adj. R-squared (uncentered):              0.992\n",
       "Method:                 Least Squares   F-statistic:                              999.2\n",
       "Date:                Thu, 11 Jun 2020   Prob (F-statistic):                   1.68e-114\n",
       "Time:                        01:35:01   Log-Likelihood:                         -417.18\n",
       "No. Observations:                 130   AIC:                                      866.4\n",
       "Df Residuals:                     114   BIC:                                      912.2\n",
       "Df Model:                          16                                                  \n",
       "Covariance Type:            nonrobust                                                  \n",
       "===================================================================================================\n",
       "                                      coef    std err          t      P>|t|      [0.025      0.975]\n",
       "---------------------------------------------------------------------------------------------------\n",
       "adult_mortality                     0.0128      0.008      1.643      0.103      -0.003       0.028\n",
       "infant_deaths                      -0.0887      0.076     -1.162      0.248      -0.240       0.062\n",
       "percentage_expenditure              0.0069      0.017      0.394      0.694      -0.028       0.041\n",
       "hepatitis_b                         0.0489      0.054      0.912      0.363      -0.057       0.155\n",
       "measles                           4.99e-05      0.000      0.369      0.713      -0.000       0.000\n",
       "bmi                                 0.0029      0.037      0.080      0.936      -0.070       0.076\n",
       "under-five_deaths                   0.0568      0.055      1.036      0.302      -0.052       0.165\n",
       "polio                               0.0411      0.030      1.371      0.173      -0.018       0.100\n",
       "diphtheria                          0.0151      0.062      0.243      0.808      -0.108       0.138\n",
       "hiv/aids                            0.3207      0.524      0.612      0.541      -0.717       1.358\n",
       "gdp                                -0.0002    6.7e-05     -2.871      0.005      -0.000   -5.97e-05\n",
       "population                       4.223e-09   2.27e-08      0.186      0.853   -4.07e-08    4.92e-08\n",
       "thinness__1-19_years                0.3341      0.553      0.604      0.547      -0.762       1.430\n",
       "thinness_5-9_years                  0.4688      0.540      0.868      0.387      -0.601       1.539\n",
       "income_composition_of_resources    78.5533     10.841      7.246      0.000      57.076     100.030\n",
       "schooling                           0.2954      0.566      0.522      0.602      -0.825       1.416\n",
       "==============================================================================\n",
       "Omnibus:                        2.667   Durbin-Watson:                   2.107\n",
       "Prob(Omnibus):                  0.264   Jarque-Bera (JB):                2.468\n",
       "Skew:                           0.337   Prob(JB):                        0.291\n",
       "Kurtosis:                       2.985   Cond. No.                     6.24e+08\n",
       "==============================================================================\n",
       "\n",
       "Warnings:\n",
       "[1] Standard Errors assume that the covariance matrix of the errors is correctly specified.\n",
       "[2] The condition number is large, 6.24e+08. This might indicate that there are\n",
       "strong multicollinearity or other numerical problems.\n",
       "\"\"\""
      ]
     },
     "execution_count": 129,
     "metadata": {},
     "output_type": "execute_result"
    }
   ],
   "source": [
    "OLS(X_scaled, y).summary()"
   ]
  },
  {
   "cell_type": "code",
   "execution_count": 132,
   "metadata": {
    "ExecuteTime": {
     "end_time": "2020-06-11T06:36:16.903638Z",
     "start_time": "2020-06-11T06:36:16.579430Z"
    }
   },
   "outputs": [
    {
     "name": "stdout",
     "output_type": "stream",
     "text": [
      "R^2: 0.9008630576092219\n"
     ]
    },
    {
     "data": {
      "text/plain": [
       "LinearRegression(copy_X=True, fit_intercept=True, n_jobs=None, normalize=False)"
      ]
     },
     "execution_count": 132,
     "metadata": {},
     "output_type": "execute_result"
    },
    {
     "data": {
      "image/png": "[encoded data removed]",
      "text/plain": [
       "<Figure size 1080x576 with 1 Axes>"
      ]
     },
     "metadata": {
      "needs_background": "light"
     },
     "output_type": "display_data"
    }
   ],
   "source": [
    "linear_regression(X_scaled, y)"
   ]
  },
  {
   "cell_type": "markdown",
   "metadata": {},
   "source": [
    "No change! Let's take a look at the relationship between income_composition_of_resources and our target."
   ]
  },
  {
   "cell_type": "code",
   "execution_count": 136,
   "metadata": {
    "ExecuteTime": {
     "end_time": "2020-06-11T06:38:41.659777Z",
     "start_time": "2020-06-11T06:38:41.501994Z"
    }
   },
   "outputs": [
    {
     "data": {
      "image/png": "[encoded data removed]",
      "text/plain": [
       "<Figure size 432x288 with 1 Axes>"
      ]
     },
     "metadata": {
      "needs_background": "light"
     },
     "output_type": "display_data"
    }
   ],
   "source": [
    "plt.scatter(df.income_composition_of_resources, df.life_expectancy)\n",
    "plt.ylabel('Life Expectancy')\n",
    "plt.xlabel('Income Composition of Resources');"
   ]
  },
  {
   "cell_type": "markdown",
   "metadata": {},
   "source": [
    "Let's see what happens to our coefficients if we drop this column."
   ]
  },
  {
   "cell_type": "code",
   "execution_count": 138,
   "metadata": {
    "ExecuteTime": {
     "end_time": "2020-06-11T06:39:30.531647Z",
     "start_time": "2020-06-11T06:39:30.527988Z"
    }
   },
   "outputs": [],
   "source": [
    "X_scaled.drop('income_composition_of_resources', axis = 1, inplace = True)"
   ]
  },
  {
   "cell_type": "code",
   "execution_count": 140,
   "metadata": {
    "ExecuteTime": {
     "end_time": "2020-06-11T06:40:05.724516Z",
     "start_time": "2020-06-11T06:40:05.450091Z"
    }
   },
   "outputs": [
    {
     "name": "stdout",
     "output_type": "stream",
     "text": [
      "R^2: 0.8609382489399316\n"
     ]
    },
    {
     "data": {
      "image/png": "[encoded data removed]",
      "text/plain": [
       "<Figure size 1080x576 with 1 Axes>"
      ]
     },
     "metadata": {
      "needs_background": "light"
     },
     "output_type": "display_data"
    }
   ],
   "source": [
    "linear_regression(X_scaled, y);"
   ]
  },
  {
   "cell_type": "code",
   "execution_count": 141,
   "metadata": {
    "ExecuteTime": {
     "end_time": "2020-06-11T06:40:17.149838Z",
     "start_time": "2020-06-11T06:40:17.119606Z"
    }
   },
   "outputs": [
    {
     "data": {
      "text/html": [
       "<table class=\"simpletable\">\n",
       "<caption>OLS Regression Results</caption>\n",
       "<tr>\n",
       "  <th>Dep. Variable:</th>     <td>life_expectancy</td> <th>  R-squared (uncentered):</th>      <td>   0.990</td> \n",
       "</tr>\n",
       "<tr>\n",
       "  <th>Model:</th>                   <td>OLS</td>       <th>  Adj. R-squared (uncentered):</th> <td>   0.988</td> \n",
       "</tr>\n",
       "<tr>\n",
       "  <th>Method:</th>             <td>Least Squares</td>  <th>  F-statistic:       </th>          <td>   733.7</td> \n",
       "</tr>\n",
       "<tr>\n",
       "  <th>Date:</th>             <td>Thu, 11 Jun 2020</td> <th>  Prob (F-statistic):</th>          <td>1.42e-106</td>\n",
       "</tr>\n",
       "<tr>\n",
       "  <th>Time:</th>                 <td>01:40:17</td>     <th>  Log-Likelihood:    </th>          <td> -441.80</td> \n",
       "</tr>\n",
       "<tr>\n",
       "  <th>No. Observations:</th>      <td>   130</td>      <th>  AIC:               </th>          <td>   913.6</td> \n",
       "</tr>\n",
       "<tr>\n",
       "  <th>Df Residuals:</th>          <td>   115</td>      <th>  BIC:               </th>          <td>   956.6</td> \n",
       "</tr>\n",
       "<tr>\n",
       "  <th>Df Model:</th>              <td>    15</td>      <th>                     </th>              <td> </td>    \n",
       "</tr>\n",
       "<tr>\n",
       "  <th>Covariance Type:</th>      <td>nonrobust</td>    <th>                     </th>              <td> </td>    \n",
       "</tr>\n",
       "</table>\n",
       "<table class=\"simpletable\">\n",
       "<tr>\n",
       "             <td></td>               <th>coef</th>     <th>std err</th>      <th>t</th>      <th>P>|t|</th>  <th>[0.025</th>    <th>0.975]</th>  \n",
       "</tr>\n",
       "<tr>\n",
       "  <th>adult_mortality</th>        <td>    0.0007</td> <td>    0.009</td> <td>    0.075</td> <td> 0.940</td> <td>   -0.017</td> <td>    0.019</td>\n",
       "</tr>\n",
       "<tr>\n",
       "  <th>infant_deaths</th>          <td>   -0.0423</td> <td>    0.091</td> <td>   -0.462</td> <td> 0.645</td> <td>   -0.224</td> <td>    0.139</td>\n",
       "</tr>\n",
       "<tr>\n",
       "  <th>percentage_expenditure</th> <td>    0.0046</td> <td>    0.021</td> <td>    0.219</td> <td> 0.827</td> <td>   -0.037</td> <td>    0.046</td>\n",
       "</tr>\n",
       "<tr>\n",
       "  <th>hepatitis_b</th>            <td>   -0.0283</td> <td>    0.063</td> <td>   -0.448</td> <td> 0.655</td> <td>   -0.153</td> <td>    0.097</td>\n",
       "</tr>\n",
       "<tr>\n",
       "  <th>measles</th>                <td>-5.738e-05</td> <td>    0.000</td> <td>   -0.354</td> <td> 0.724</td> <td>   -0.000</td> <td>    0.000</td>\n",
       "</tr>\n",
       "<tr>\n",
       "  <th>bmi</th>                    <td>    0.0503</td> <td>    0.043</td> <td>    1.158</td> <td> 0.249</td> <td>   -0.036</td> <td>    0.137</td>\n",
       "</tr>\n",
       "<tr>\n",
       "  <th>under-five_deaths</th>      <td>    0.0306</td> <td>    0.066</td> <td>    0.466</td> <td> 0.642</td> <td>   -0.100</td> <td>    0.161</td>\n",
       "</tr>\n",
       "<tr>\n",
       "  <th>polio</th>                  <td>    0.0921</td> <td>    0.035</td> <td>    2.631</td> <td> 0.010</td> <td>    0.023</td> <td>    0.162</td>\n",
       "</tr>\n",
       "<tr>\n",
       "  <th>diphtheria</th>             <td>    0.1120</td> <td>    0.073</td> <td>    1.531</td> <td> 0.129</td> <td>   -0.033</td> <td>    0.257</td>\n",
       "</tr>\n",
       "<tr>\n",
       "  <th>hiv/aids</th>               <td>    0.4156</td> <td>    0.630</td> <td>    0.660</td> <td> 0.511</td> <td>   -0.832</td> <td>    1.663</td>\n",
       "</tr>\n",
       "<tr>\n",
       "  <th>gdp</th>                    <td>   -0.0002</td> <td> 8.06e-05</td> <td>   -2.617</td> <td> 0.010</td> <td>   -0.000</td> <td>-5.13e-05</td>\n",
       "</tr>\n",
       "<tr>\n",
       "  <th>population</th>             <td> 1.428e-08</td> <td> 2.72e-08</td> <td>    0.524</td> <td> 0.601</td> <td>-3.97e-08</td> <td> 6.83e-08</td>\n",
       "</tr>\n",
       "<tr>\n",
       "  <th>thinness__1-19_years</th>   <td>    0.0888</td> <td>    0.664</td> <td>    0.134</td> <td> 0.894</td> <td>   -1.227</td> <td>    1.405</td>\n",
       "</tr>\n",
       "<tr>\n",
       "  <th>thinness_5-9_years</th>     <td>    0.7005</td> <td>    0.649</td> <td>    1.080</td> <td> 0.283</td> <td>   -0.585</td> <td>    1.986</td>\n",
       "</tr>\n",
       "<tr>\n",
       "  <th>schooling</th>              <td>    3.9600</td> <td>    0.304</td> <td>   13.006</td> <td> 0.000</td> <td>    3.357</td> <td>    4.563</td>\n",
       "</tr>\n",
       "</table>\n",
       "<table class=\"simpletable\">\n",
       "<tr>\n",
       "  <th>Omnibus:</th>       <td> 3.546</td> <th>  Durbin-Watson:     </th> <td>   2.092</td>\n",
       "</tr>\n",
       "<tr>\n",
       "  <th>Prob(Omnibus):</th> <td> 0.170</td> <th>  Jarque-Bera (JB):  </th> <td>   3.552</td>\n",
       "</tr>\n",
       "<tr>\n",
       "  <th>Skew:</th>          <td> 0.395</td> <th>  Prob(JB):          </th> <td>   0.169</td>\n",
       "</tr>\n",
       "<tr>\n",
       "  <th>Kurtosis:</th>      <td> 2.821</td> <th>  Cond. No.          </th> <td>4.46e+07</td>\n",
       "</tr>\n",
       "</table><br/><br/>Warnings:<br/>[1] Standard Errors assume that the covariance matrix of the errors is correctly specified.<br/>[2] The condition number is large, 4.46e+07. This might indicate that there are<br/>strong multicollinearity or other numerical problems."
      ],
      "text/plain": [
       "<class 'statsmodels.iolib.summary.Summary'>\n",
       "\"\"\"\n",
       "                                 OLS Regression Results                                \n",
       "=======================================================================================\n",
       "Dep. Variable:        life_expectancy   R-squared (uncentered):                   0.990\n",
       "Model:                            OLS   Adj. R-squared (uncentered):              0.988\n",
       "Method:                 Least Squares   F-statistic:                              733.7\n",
       "Date:                Thu, 11 Jun 2020   Prob (F-statistic):                   1.42e-106\n",
       "Time:                        01:40:17   Log-Likelihood:                         -441.80\n",
       "No. Observations:                 130   AIC:                                      913.6\n",
       "Df Residuals:                     115   BIC:                                      956.6\n",
       "Df Model:                          15                                                  \n",
       "Covariance Type:            nonrobust                                                  \n",
       "==========================================================================================\n",
       "                             coef    std err          t      P>|t|      [0.025      0.975]\n",
       "------------------------------------------------------------------------------------------\n",
       "adult_mortality            0.0007      0.009      0.075      0.940      -0.017       0.019\n",
       "infant_deaths             -0.0423      0.091     -0.462      0.645      -0.224       0.139\n",
       "percentage_expenditure     0.0046      0.021      0.219      0.827      -0.037       0.046\n",
       "hepatitis_b               -0.0283      0.063     -0.448      0.655      -0.153       0.097\n",
       "measles                -5.738e-05      0.000     -0.354      0.724      -0.000       0.000\n",
       "bmi                        0.0503      0.043      1.158      0.249      -0.036       0.137\n",
       "under-five_deaths          0.0306      0.066      0.466      0.642      -0.100       0.161\n",
       "polio                      0.0921      0.035      2.631      0.010       0.023       0.162\n",
       "diphtheria                 0.1120      0.073      1.531      0.129      -0.033       0.257\n",
       "hiv/aids                   0.4156      0.630      0.660      0.511      -0.832       1.663\n",
       "gdp                       -0.0002   8.06e-05     -2.617      0.010      -0.000   -5.13e-05\n",
       "population              1.428e-08   2.72e-08      0.524      0.601   -3.97e-08    6.83e-08\n",
       "thinness__1-19_years       0.0888      0.664      0.134      0.894      -1.227       1.405\n",
       "thinness_5-9_years         0.7005      0.649      1.080      0.283      -0.585       1.986\n",
       "schooling                  3.9600      0.304     13.006      0.000       3.357       4.563\n",
       "==============================================================================\n",
       "Omnibus:                        3.546   Durbin-Watson:                   2.092\n",
       "Prob(Omnibus):                  0.170   Jarque-Bera (JB):                3.552\n",
       "Skew:                           0.395   Prob(JB):                        0.169\n",
       "Kurtosis:                       2.821   Cond. No.                     4.46e+07\n",
       "==============================================================================\n",
       "\n",
       "Warnings:\n",
       "[1] Standard Errors assume that the covariance matrix of the errors is correctly specified.\n",
       "[2] The condition number is large, 4.46e+07. This might indicate that there are\n",
       "strong multicollinearity or other numerical problems.\n",
       "\"\"\""
      ]
     },
     "execution_count": 141,
     "metadata": {},
     "output_type": "execute_result"
    }
   ],
   "source": [
    "OLS(X_scaled, y).summary()"
   ]
  },
  {
   "cell_type": "code",
   "execution_count": null,
   "metadata": {},
   "outputs": [],
   "source": []
  }
 ],
 "metadata": {
  "hide_input": false,
  "kernelspec": {
   "display_name": "Python 3",
   "language": "python",
   "name": "python3"
  },
  "language_info": {
   "codemirror_mode": {
    "name": "ipython",
    "version": 3
   },
   "file_extension": ".py",
   "mimetype": "text/x-python",
   "name": "python",
   "nbconvert_exporter": "python",
   "pygments_lexer": "ipython3",
   "version": "3.7.3"
  },
  "toc": {
   "base_numbering": 1,
   "nav_menu": {},
   "number_sections": false,
   "sideBar": true,
   "skip_h1_title": true,
   "title_cell": "Table of Contents",
   "title_sidebar": "Contents",
   "toc_cell": false,
   "toc_position": {},
   "toc_section_display": true,
   "toc_window_display": false
  },
  "varInspector": {
   "cols": {
    "lenName": 16,
    "lenType": 16,
    "lenVar": 40
   },
   "kernels_config": {
    "python": {
     "delete_cmd_postfix": "",
     "delete_cmd_prefix": "del ",
     "library": "var_list.py",
     "varRefreshCmd": "print(var_dic_list())"
    },
    "r": {
     "delete_cmd_postfix": ") ",
     "delete_cmd_prefix": "rm(",
     "library": "var_list.r",
     "varRefreshCmd": "cat(var_dic_list()) "
    }
   },
   "types_to_exclude": [
    "module",
    "function",
    "builtin_function_or_method",
    "instance",
    "_Feature"
   ],
   "window_display": false
  }
 },
 "nbformat": 4,
 "nbformat_minor": 2
}
